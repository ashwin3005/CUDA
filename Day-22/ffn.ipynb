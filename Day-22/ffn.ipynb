{
 "cells": [
  {
   "cell_type": "code",
   "execution_count": 3,
   "metadata": {},
   "outputs": [],
   "source": [
    "import torch\n",
    "import torch.nn as nn"
   ]
  },
  {
   "cell_type": "code",
   "execution_count": 8,
   "metadata": {},
   "outputs": [],
   "source": [
    "class SimpleFFN(nn.Module):\n",
    "    def __init__(self, input_size, hidden_size, output_size):\n",
    "        super(SimpleFFN, self).__init__()\n",
    "        self.FC1 = nn.Linear(in_features=input_size, out_features=hidden_size, bias=False)  # not included bias here\n",
    "        self.relu = nn.ReLU()\n",
    "        self.FC2 = nn.Linear(in_features=hidden_size, out_features=output_size, bias=False)\n",
    "\n",
    "    def forward(self, x):\n",
    "        out = self.relu(self.FC1(x))\n",
    "        out = self.relu(self.FC2(out))\n",
    "\n",
    "        return out"
   ]
  },
  {
   "cell_type": "code",
   "execution_count": 9,
   "metadata": {},
   "outputs": [],
   "source": [
    "model = SimpleFFN(input_size=4, hidden_size=2, output_size=1)\n",
    "# critereon = nn.BCEWithLogitsLoss()\n",
    "# optimizer = torch.optim.SGD(params=model.parameters(), lr = 0.001)"
   ]
  },
  {
   "cell_type": "markdown",
   "metadata": {},
   "source": [
    "### Total number of parameters\n",
    "\n",
    "4 X 2 + 2 X 1 = 8 + 2 = 10"
   ]
  },
  {
   "cell_type": "code",
   "execution_count": 10,
   "metadata": {},
   "outputs": [
    {
     "name": "stdout",
     "output_type": "stream",
     "text": [
      "10\n"
     ]
    }
   ],
   "source": [
    "# Calculate total parameters\n",
    "total_params = sum(param.numel() for param in model.parameters())\n",
    "print(total_params)"
   ]
  },
  {
   "cell_type": "code",
   "execution_count": null,
   "metadata": {},
   "outputs": [],
   "source": []
  }
 ],
 "metadata": {
  "kernelspec": {
   "display_name": "llm",
   "language": "python",
   "name": "python3"
  },
  "language_info": {
   "codemirror_mode": {
    "name": "ipython",
    "version": 3
   },
   "file_extension": ".py",
   "mimetype": "text/x-python",
   "name": "python",
   "nbconvert_exporter": "python",
   "pygments_lexer": "ipython3",
   "version": "3.11.11"
  }
 },
 "nbformat": 4,
 "nbformat_minor": 2
}
